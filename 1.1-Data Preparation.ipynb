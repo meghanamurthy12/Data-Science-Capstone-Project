{
 "cells": [
  {
   "cell_type": "markdown",
   "metadata": {
    "toc": true
   },
   "source": [
    "<h1>Table of Contents<span class=\"tocSkip\"></span></h1>\n",
    "<div class=\"toc\"><ul class=\"toc-item\"><li><span><a href=\"#Weather-dataset-analysis\" data-toc-modified-id=\"Weather-dataset-analysis-1\">Weather dataset analysis</a></span><ul class=\"toc-item\"><li><span><a href=\"#Observation-types\" data-toc-modified-id=\"Observation-types-1.1\">Observation types</a></span></li><li><span><a href=\"#Hourly-weather-observations\" data-toc-modified-id=\"Hourly-weather-observations-1.2\">Hourly weather observations</a></span></li><li><span><a href=\"#Every-6-hours-weather-observations\" data-toc-modified-id=\"Every-6-hours-weather-observations-1.3\">Every 6 hours weather observations</a></span></li><li><span><a href=\"#Daily-weather-observations\" data-toc-modified-id=\"Daily-weather-observations-1.4\">Daily weather observations</a></span></li><li><span><a href=\"#Minutely-weather-observations\" data-toc-modified-id=\"Minutely-weather-observations-1.5\">Minutely weather observations</a></span></li></ul></li><li><span><a href=\"#Solar-declination-angle\" data-toc-modified-id=\"Solar-declination-angle-2\">Solar declination angle</a></span></li><li><span><a href=\"#Daily-aggregation\" data-toc-modified-id=\"Daily-aggregation-3\">Daily aggregation</a></span></li><li><span><a href=\"#Hourly-aggregations\" data-toc-modified-id=\"Hourly-aggregations-4\">Hourly aggregations</a></span></li></ul></div>"
   ]
  },
  {
   "cell_type": "markdown",
   "metadata": {},
   "source": [
    "# Data Preporation"
   ]
  },
  {
   "cell_type": "code",
   "execution_count": 3,
   "metadata": {
    "ExecuteTime": {
     "end_time": "2020-12-12T03:17:34.214338Z",
     "start_time": "2020-12-12T03:17:34.209107Z"
    }
   },
   "outputs": [],
   "source": [
    "#Import libraries\n",
    "import matplotlib.pyplot as plt\n",
    "import numpy as np\n",
    "import pandas as pd\n",
    "import seaborn as sns\n",
    "import tqdm\n",
    "import math"
   ]
  },
  {
   "cell_type": "markdown",
   "metadata": {},
   "source": [
    "* Read UR data and replace missing values"
   ]
  },
  {
   "cell_type": "code",
   "execution_count": 19,
   "metadata": {
    "ExecuteTime": {
     "end_time": "2020-12-12T03:20:02.780654Z",
     "start_time": "2020-12-12T03:18:42.375491Z"
    }
   },
   "outputs": [],
   "source": [
    "names = [\n",
    "    'Date', 'Electric_KWAC_Power', 'Energy_(KWh)', 'Inverter_1', 'Inverter_2',\n",
    "    'Inverter_3', 'Inverter_4', 'Inverter_5', 'Inverter_6', 'Inverter_7',\n",
    "    'Inverter_8', 'Solar_Irradiance', 'Power_for_Tesla_Battery',\n",
    "    'Current_Charge_Level(KWh)'\n",
    "]\n",
    "\n",
    "df = pd.read_excel('Data/URData_update.xlsx',sheet_name='Data',skiprows=4,names=names)\n",
    "\n",
    "df.columns\n",
    "\n",
    "missing_values = ['I/O Timeout', 'No Result', 'No Data', 'Pt Created',0]\n",
    "\n",
    "word_replace = {'I/O Timeout':0, 'No Result':0, 'No Data':0, 'Pt Created':0}\n",
    "\n",
    "df = df[~df['Electric_KWAC_Power'].isin(missing_values)]\n",
    "\n",
    "df.replace(\n",
    "    {\n",
    "        'Inverter_1': word_replace,\n",
    "        'Inverter_2': word_replace,\n",
    "        'Inverter_3': word_replace,\n",
    "        'Inverter_4': word_replace,\n",
    "        'Inverter_5': word_replace,\n",
    "        'Inverter_6': word_replace,\n",
    "        'Inverter_7': word_replace,\n",
    "        'Inverter_8': word_replace,\n",
    "        'Solar_Irradiance': word_replace\n",
    "    },\n",
    "    inplace=True)\n",
    "df.drop(index=[0,1],inplace= True)"
   ]
  },
  {
   "cell_type": "markdown",
   "metadata": {},
   "source": [
    "## Weather dataset analysis"
   ]
  },
  {
   "cell_type": "markdown",
   "metadata": {},
   "source": [
    "* Read and explore weather dataset"
   ]
  },
  {
   "cell_type": "code",
   "execution_count": 4,
   "metadata": {
    "ExecuteTime": {
     "end_time": "2020-12-12T03:17:38.081845Z",
     "start_time": "2020-12-12T03:17:37.783147Z"
    }
   },
   "outputs": [
    {
     "name": "stderr",
     "output_type": "stream",
     "text": [
      "/Users/marinakupina/opt/anaconda3/lib/python3.7/site-packages/IPython/core/interactiveshell.py:3063: DtypeWarning: Columns (3,30,31,42,43,48,53,58,59,69,71,76,88,95) have mixed types.Specify dtype option on import or set low_memory=False.\n",
      "  interactivity=interactivity, compiler=compiler, result=result)\n"
     ]
    },
    {
     "data": {
      "text/plain": [
       "FM-15    7839\n",
       "FM-16    1947\n",
       "FM-12    1296\n",
       "SHEF      457\n",
       "SOD       324\n",
       "SOM        10\n",
       "SY-MT       1\n",
       "Name: REPORT_TYPE, dtype: int64"
      ]
     },
     "execution_count": 4,
     "metadata": {},
     "output_type": "execute_result"
    }
   ],
   "source": [
    "df_weather = pd.read_csv('Data/ROC.csv')\n",
    "\n",
    "# Date to datetime\n",
    "df_weather.DATE = pd.to_datetime(df_weather.DATE, format='%Y-%m-%dT%H:%M:%S')\n",
    "df_weather['REPORT_TYPE'].value_counts()"
   ]
  },
  {
   "cell_type": "markdown",
   "metadata": {},
   "source": [
    "### Observation types\n",
    "There are different sources of weather data. The main difference is observation frequency.\n",
    "\n",
    "* FM-15 - every hour (definition: Aviation routine reports\tFM 15 (METAR))\n",
    "* FM-16 - (definition: Special aviation weather reports\tFM 16 (SPECI))\n",
    "* FM-12 - every 6 hours (definition: Intermediate synoptic hour\tFM 12 (SYNOP)/FM 13 (SHIP))\n",
    "* SOD - every day; contains information about sunrise and sunset"
   ]
  },
  {
   "cell_type": "code",
   "execution_count": 5,
   "metadata": {
    "ExecuteTime": {
     "end_time": "2020-12-12T03:17:40.192393Z",
     "start_time": "2020-12-12T03:17:40.130228Z"
    }
   },
   "outputs": [
    {
     "data": {
      "text/html": [
       "<div>\n",
       "<style scoped>\n",
       "    .dataframe tbody tr th:only-of-type {\n",
       "        vertical-align: middle;\n",
       "    }\n",
       "\n",
       "    .dataframe tbody tr th {\n",
       "        vertical-align: top;\n",
       "    }\n",
       "\n",
       "    .dataframe thead th {\n",
       "        text-align: right;\n",
       "    }\n",
       "</style>\n",
       "<table border=\"1\" class=\"dataframe\">\n",
       "  <thead>\n",
       "    <tr style=\"text-align: right;\">\n",
       "      <th></th>\n",
       "      <th>0</th>\n",
       "      <th>2</th>\n",
       "      <th>4</th>\n",
       "      <th>5</th>\n",
       "      <th>6</th>\n",
       "    </tr>\n",
       "  </thead>\n",
       "  <tbody>\n",
       "    <tr>\n",
       "      <th>STATION</th>\n",
       "      <td>72529014768</td>\n",
       "      <td>72529014768</td>\n",
       "      <td>72529014768</td>\n",
       "      <td>72529014768</td>\n",
       "      <td>72529014768</td>\n",
       "    </tr>\n",
       "    <tr>\n",
       "      <th>DATE</th>\n",
       "      <td>2020-01-01 00:54:00</td>\n",
       "      <td>2020-01-01 01:54:00</td>\n",
       "      <td>2020-01-01 02:54:00</td>\n",
       "      <td>2020-01-01 03:54:00</td>\n",
       "      <td>2020-01-01 04:54:00</td>\n",
       "    </tr>\n",
       "    <tr>\n",
       "      <th>REPORT_TYPE</th>\n",
       "      <td>FM-15</td>\n",
       "      <td>FM-15</td>\n",
       "      <td>FM-15</td>\n",
       "      <td>FM-15</td>\n",
       "      <td>FM-15</td>\n",
       "    </tr>\n",
       "    <tr>\n",
       "      <th>SOURCE</th>\n",
       "      <td>7</td>\n",
       "      <td>7</td>\n",
       "      <td>7</td>\n",
       "      <td>7</td>\n",
       "      <td>7</td>\n",
       "    </tr>\n",
       "    <tr>\n",
       "      <th>AWND</th>\n",
       "      <td>NaN</td>\n",
       "      <td>NaN</td>\n",
       "      <td>NaN</td>\n",
       "      <td>NaN</td>\n",
       "      <td>NaN</td>\n",
       "    </tr>\n",
       "    <tr>\n",
       "      <th>...</th>\n",
       "      <td>...</td>\n",
       "      <td>...</td>\n",
       "      <td>...</td>\n",
       "      <td>...</td>\n",
       "      <td>...</td>\n",
       "    </tr>\n",
       "    <tr>\n",
       "      <th>ShortDurationPrecipitationValue180</th>\n",
       "      <td>NaN</td>\n",
       "      <td>NaN</td>\n",
       "      <td>NaN</td>\n",
       "      <td>NaN</td>\n",
       "      <td>NaN</td>\n",
       "    </tr>\n",
       "    <tr>\n",
       "      <th>Sunrise</th>\n",
       "      <td>NaN</td>\n",
       "      <td>NaN</td>\n",
       "      <td>NaN</td>\n",
       "      <td>NaN</td>\n",
       "      <td>NaN</td>\n",
       "    </tr>\n",
       "    <tr>\n",
       "      <th>Sunset</th>\n",
       "      <td>NaN</td>\n",
       "      <td>NaN</td>\n",
       "      <td>NaN</td>\n",
       "      <td>NaN</td>\n",
       "      <td>NaN</td>\n",
       "    </tr>\n",
       "    <tr>\n",
       "      <th>TStorms</th>\n",
       "      <td>NaN</td>\n",
       "      <td>NaN</td>\n",
       "      <td>NaN</td>\n",
       "      <td>NaN</td>\n",
       "      <td>NaN</td>\n",
       "    </tr>\n",
       "    <tr>\n",
       "      <th>WindEquipmentChangeDate</th>\n",
       "      <td>2008-10-20</td>\n",
       "      <td>2008-10-20</td>\n",
       "      <td>2008-10-20</td>\n",
       "      <td>2008-10-20</td>\n",
       "      <td>2008-10-20</td>\n",
       "    </tr>\n",
       "  </tbody>\n",
       "</table>\n",
       "<p>124 rows × 5 columns</p>\n",
       "</div>"
      ],
      "text/plain": [
       "                                                      0                    2  \\\n",
       "STATION                                     72529014768          72529014768   \n",
       "DATE                                2020-01-01 00:54:00  2020-01-01 01:54:00   \n",
       "REPORT_TYPE                                       FM-15                FM-15   \n",
       "SOURCE                                                7                    7   \n",
       "AWND                                                NaN                  NaN   \n",
       "...                                                 ...                  ...   \n",
       "ShortDurationPrecipitationValue180                  NaN                  NaN   \n",
       "Sunrise                                             NaN                  NaN   \n",
       "Sunset                                              NaN                  NaN   \n",
       "TStorms                                             NaN                  NaN   \n",
       "WindEquipmentChangeDate                      2008-10-20           2008-10-20   \n",
       "\n",
       "                                                      4                    5  \\\n",
       "STATION                                     72529014768          72529014768   \n",
       "DATE                                2020-01-01 02:54:00  2020-01-01 03:54:00   \n",
       "REPORT_TYPE                                       FM-15                FM-15   \n",
       "SOURCE                                                7                    7   \n",
       "AWND                                                NaN                  NaN   \n",
       "...                                                 ...                  ...   \n",
       "ShortDurationPrecipitationValue180                  NaN                  NaN   \n",
       "Sunrise                                             NaN                  NaN   \n",
       "Sunset                                              NaN                  NaN   \n",
       "TStorms                                             NaN                  NaN   \n",
       "WindEquipmentChangeDate                      2008-10-20           2008-10-20   \n",
       "\n",
       "                                                      6  \n",
       "STATION                                     72529014768  \n",
       "DATE                                2020-01-01 04:54:00  \n",
       "REPORT_TYPE                                       FM-15  \n",
       "SOURCE                                                7  \n",
       "AWND                                                NaN  \n",
       "...                                                 ...  \n",
       "ShortDurationPrecipitationValue180                  NaN  \n",
       "Sunrise                                             NaN  \n",
       "Sunset                                              NaN  \n",
       "TStorms                                             NaN  \n",
       "WindEquipmentChangeDate                      2008-10-20  \n",
       "\n",
       "[124 rows x 5 columns]"
      ]
     },
     "execution_count": 5,
     "metadata": {},
     "output_type": "execute_result"
    }
   ],
   "source": [
    "pd.set_option('display.max_columns', None)\n",
    "df_weather[df_weather['REPORT_TYPE']=='FM-15'].head().T"
   ]
  },
  {
   "cell_type": "markdown",
   "metadata": {
    "ExecuteTime": {
     "end_time": "2020-12-11T17:23:47.854614Z",
     "start_time": "2020-12-11T17:23:47.850495Z"
    }
   },
   "source": [
    "### Hourly weather observations"
   ]
  },
  {
   "cell_type": "code",
   "execution_count": 6,
   "metadata": {
    "ExecuteTime": {
     "end_time": "2020-12-12T03:17:42.880793Z",
     "start_time": "2020-12-12T03:17:42.827097Z"
    }
   },
   "outputs": [],
   "source": [
    "df_weather_hourly = df_weather[df_weather['REPORT_TYPE']=='FM-15'].dropna(axis=1,\n",
    "                                           thresh=len(df_weather[df_weather['REPORT_TYPE']=='FM-15'])*0.7)"
   ]
  },
  {
   "cell_type": "code",
   "execution_count": 7,
   "metadata": {
    "ExecuteTime": {
     "end_time": "2020-12-12T03:17:43.121443Z",
     "start_time": "2020-12-12T03:17:43.105675Z"
    }
   },
   "outputs": [
    {
     "data": {
      "text/plain": [
       "(7839, 23)"
      ]
     },
     "execution_count": 7,
     "metadata": {},
     "output_type": "execute_result"
    }
   ],
   "source": [
    "df_weather_hourly.shape"
   ]
  },
  {
   "cell_type": "code",
   "execution_count": 8,
   "metadata": {
    "ExecuteTime": {
     "end_time": "2020-12-12T03:17:43.468420Z",
     "start_time": "2020-12-12T03:17:43.449158Z"
    }
   },
   "outputs": [],
   "source": [
    "df_weather_hourly['SkyConditions_level'] = df_weather_hourly['HourlySkyConditions'].astype(str).apply(lambda x: \n",
    "                                                                                        x.split(':')[-1][0:2])"
   ]
  },
  {
   "cell_type": "code",
   "execution_count": 9,
   "metadata": {
    "ExecuteTime": {
     "end_time": "2020-12-12T03:17:45.613435Z",
     "start_time": "2020-12-12T03:17:45.600436Z"
    }
   },
   "outputs": [
    {
     "data": {
      "text/plain": [
       "Index(['Station', 'Date', 'Report_type', 'Source', 'BackupElements',\n",
       "       'BackupEquipment', 'BackupName', 'HourlyAltimeterSetting',\n",
       "       'HourlyDewPointTemperature', 'HourlyDryBulbTemperature',\n",
       "       'HourlyPrecipitation', 'HourlyRelativeHumidity',\n",
       "       'HourlySeaLevelPressure', 'HourlySkyConditions',\n",
       "       'HourlyStationPressure', 'HourlyVisibility', 'HourlyWetBulbTemperature',\n",
       "       'HourlyWindDirection', 'HourlyWindSpeed', 'REM', 'REPORT_TYPE.1',\n",
       "       'SOURCE.1', 'WindEquipmentChangeDate', 'SkyConditions_level'],\n",
       "      dtype='object')"
      ]
     },
     "execution_count": 9,
     "metadata": {},
     "output_type": "execute_result"
    }
   ],
   "source": [
    "df_weather_hourly.columns = ['Station', 'Date', 'Report_type', 'Source', 'BackupElements',\n",
    "       'BackupEquipment', 'BackupName', 'HourlyAltimeterSetting',\n",
    "       'HourlyDewPointTemperature', 'HourlyDryBulbTemperature',\n",
    "       'HourlyPrecipitation', 'HourlyRelativeHumidity',\n",
    "       'HourlySeaLevelPressure', 'HourlySkyConditions',\n",
    "       'HourlyStationPressure', 'HourlyVisibility', 'HourlyWetBulbTemperature',\n",
    "       'HourlyWindDirection', 'HourlyWindSpeed', 'REM', 'REPORT_TYPE.1',\n",
    "       'SOURCE.1', 'WindEquipmentChangeDate', 'SkyConditions_level']\n",
    "df_weather_hourly.columns"
   ]
  },
  {
   "cell_type": "markdown",
   "metadata": {},
   "source": [
    "### Every 6 hours weather observations"
   ]
  },
  {
   "cell_type": "code",
   "execution_count": 10,
   "metadata": {
    "ExecuteTime": {
     "end_time": "2020-12-12T03:17:46.230832Z",
     "start_time": "2020-12-12T03:17:46.203250Z"
    }
   },
   "outputs": [],
   "source": [
    "df_weather_every6hours = df_weather[df_weather['REPORT_TYPE']=='FM-12'].dropna(axis=1,\n",
    "                                           thresh=len(df_weather[df_weather['REPORT_TYPE']=='FM-12'])*0.7)"
   ]
  },
  {
   "cell_type": "code",
   "execution_count": 11,
   "metadata": {
    "ExecuteTime": {
     "end_time": "2020-12-12T03:17:46.739885Z",
     "start_time": "2020-12-12T03:17:46.730791Z"
    }
   },
   "outputs": [
    {
     "data": {
      "text/plain": [
       "(1296, 22)"
      ]
     },
     "execution_count": 11,
     "metadata": {},
     "output_type": "execute_result"
    }
   ],
   "source": [
    "df_weather_every6hours.shape"
   ]
  },
  {
   "cell_type": "markdown",
   "metadata": {},
   "source": [
    "### Daily weather observations"
   ]
  },
  {
   "cell_type": "code",
   "execution_count": 12,
   "metadata": {
    "ExecuteTime": {
     "end_time": "2020-12-12T03:17:49.170791Z",
     "start_time": "2020-12-12T03:17:49.147298Z"
    }
   },
   "outputs": [],
   "source": [
    "df_weather_daily = df_weather[df_weather['REPORT_TYPE']=='SOD  '].dropna(axis=1,\n",
    "                                           thresh=len(df_weather[df_weather['REPORT_TYPE']=='SOD  '])*0.7)"
   ]
  },
  {
   "cell_type": "code",
   "execution_count": 13,
   "metadata": {
    "ExecuteTime": {
     "end_time": "2020-12-12T03:17:49.513041Z",
     "start_time": "2020-12-12T03:17:49.505284Z"
    }
   },
   "outputs": [
    {
     "data": {
      "text/plain": [
       "(324, 32)"
      ]
     },
     "execution_count": 13,
     "metadata": {},
     "output_type": "execute_result"
    }
   ],
   "source": [
    "df_weather_daily.shape"
   ]
  },
  {
   "cell_type": "code",
   "execution_count": 14,
   "metadata": {
    "ExecuteTime": {
     "end_time": "2020-12-12T03:17:50.160641Z",
     "start_time": "2020-12-12T03:17:50.139055Z"
    }
   },
   "outputs": [],
   "source": [
    "time_sunrise = pd.to_datetime(df_weather_daily['Sunrise'], format='%H%M')\n",
    "time_sunset = pd.to_datetime(df_weather_daily['Sunset'], format='%H%M')\n",
    "df_weather_daily['Day_duration'] = time_sunset - time_sunrise"
   ]
  },
  {
   "cell_type": "markdown",
   "metadata": {
    "ExecuteTime": {
     "end_time": "2020-12-11T17:31:11.932165Z",
     "start_time": "2020-12-11T17:31:11.926503Z"
    }
   },
   "source": [
    "### Minutely weather observations"
   ]
  },
  {
   "cell_type": "code",
   "execution_count": 27,
   "metadata": {
    "ExecuteTime": {
     "end_time": "2020-12-12T03:21:21.672158Z",
     "start_time": "2020-12-12T03:21:21.555214Z"
    }
   },
   "outputs": [],
   "source": [
    "df.sort_values(by='Date',inplace=True)"
   ]
  },
  {
   "cell_type": "code",
   "execution_count": 28,
   "metadata": {
    "ExecuteTime": {
     "end_time": "2020-12-12T03:21:22.595000Z",
     "start_time": "2020-12-12T03:21:22.060520Z"
    }
   },
   "outputs": [],
   "source": [
    "df_final_minutely = pd.merge_asof(df, df_weather_hourly, on='Date',direction=\"nearest\")"
   ]
  },
  {
   "cell_type": "code",
   "execution_count": 29,
   "metadata": {
    "ExecuteTime": {
     "end_time": "2020-12-12T03:21:26.025624Z",
     "start_time": "2020-12-12T03:21:26.017774Z"
    }
   },
   "outputs": [
    {
     "data": {
      "text/plain": [
       "(421757, 37)"
      ]
     },
     "execution_count": 29,
     "metadata": {},
     "output_type": "execute_result"
    }
   ],
   "source": [
    "df_final_minutely.shape"
   ]
  },
  {
   "cell_type": "code",
   "execution_count": 30,
   "metadata": {
    "ExecuteTime": {
     "end_time": "2020-12-12T03:21:30.030001Z",
     "start_time": "2020-12-12T03:21:26.627019Z"
    }
   },
   "outputs": [],
   "source": [
    "df['Electric_KWAC_Power'] = pd.to_numeric(df['Electric_KWAC_Power'])\n",
    "df['Date_day_hour'] = df['Date'].apply(lambda x: x.strftime(\"%Y-%m-%d %H:00:00\"))\n",
    "df_hour_agg = df.groupby('Date_day_hour').mean().reset_index()\n",
    "df_hour_agg['Date_day_hour'] = pd.to_datetime(df_hour_agg['Date_day_hour'], unit=\"ns\")\n",
    "df_final_hourly = pd.merge_asof(df_hour_agg, df_weather_hourly,left_on = 'Date_day_hour',\n",
    "                                right_on='Date',direction=\"nearest\")"
   ]
  },
  {
   "cell_type": "code",
   "execution_count": 31,
   "metadata": {
    "ExecuteTime": {
     "end_time": "2020-12-12T03:21:30.043239Z",
     "start_time": "2020-12-12T03:21:30.033225Z"
    }
   },
   "outputs": [
    {
     "data": {
      "text/plain": [
       "(7031, 35)"
      ]
     },
     "execution_count": 31,
     "metadata": {},
     "output_type": "execute_result"
    }
   ],
   "source": [
    "df_final_hourly.dtypes\n",
    "df_final_hourly.shape"
   ]
  },
  {
   "cell_type": "code",
   "execution_count": 32,
   "metadata": {
    "ExecuteTime": {
     "end_time": "2020-12-12T03:21:30.088534Z",
     "start_time": "2020-12-12T03:21:30.048214Z"
    }
   },
   "outputs": [],
   "source": [
    "df_final_hourly.fillna(0,inplace=True)"
   ]
  },
  {
   "cell_type": "markdown",
   "metadata": {},
   "source": [
    "## Solar declination angle"
   ]
  },
  {
   "cell_type": "code",
   "execution_count": 33,
   "metadata": {
    "ExecuteTime": {
     "end_time": "2020-12-12T03:21:32.663805Z",
     "start_time": "2020-12-12T03:21:32.502814Z"
    }
   },
   "outputs": [],
   "source": [
    "solar_angles = pd.read_csv('Data/Daily_Solar_Information.csv', index_col=0)\n",
    "\n",
    "jan1 = pd.to_datetime(solar_angles.Date, format='%m/%d/%y')[1]\n",
    "solar_angles['Days_Jan1'] = (\n",
    "    pd.to_datetime(solar_angles.Date, format='%m/%d/%y') -\n",
    "    jan1).astype('timedelta64[D]')\n",
    "solar_angles['sun_declination_angle'] = solar_angles['Days_Jan1'].apply(\n",
    "    lambda x: 0.39795 * math.cos(0.01720249 * (x - 173)))\n",
    "\n",
    "# Date to datetime\n",
    "solar_angles.Date = pd.to_datetime(solar_angles.Date)\n",
    "solar_angles.head()\n",
    "solar_angles.describe()\n",
    "solar_angles['Hours.After.Midnight'].value_counts()\n",
    "solar_angles.drop(['Hours.After.Midnight', 'Sunrise.Time', 'Sunset.Time'],\n",
    "                  axis=1,\n",
    "                  inplace=True)"
   ]
  },
  {
   "cell_type": "markdown",
   "metadata": {},
   "source": [
    "## Daily aggregation "
   ]
  },
  {
   "cell_type": "code",
   "execution_count": 35,
   "metadata": {
    "ExecuteTime": {
     "end_time": "2020-12-12T03:22:32.363201Z",
     "start_time": "2020-12-12T03:22:32.352649Z"
    }
   },
   "outputs": [],
   "source": [
    "df_weather_daily['Date_day'] = pd.to_datetime(\n",
    "    df_weather_daily['DATE'].apply(lambda x: x.strftime(\"%Y-%m-%d\")))"
   ]
  },
  {
   "cell_type": "code",
   "execution_count": 36,
   "metadata": {
    "ExecuteTime": {
     "end_time": "2020-12-12T03:22:38.416223Z",
     "start_time": "2020-12-12T03:22:34.893950Z"
    }
   },
   "outputs": [],
   "source": [
    "df['Electric_KWAC_Power'] = pd.to_numeric(df['Electric_KWAC_Power'])\n",
    "df['Date_day'] = pd.to_datetime(df['Date'].apply(lambda x: x.strftime(\"%Y-%m-%d\")))\n",
    "df_day_agg = df.groupby('Date_day').mean().reset_index()\n",
    "df_final_daily = pd.merge_asof(df_day_agg,\n",
    "                               df_weather_daily,\n",
    "                               on='Date_day',\n",
    "                               direction=\"nearest\")"
   ]
  },
  {
   "cell_type": "code",
   "execution_count": 37,
   "metadata": {
    "ExecuteTime": {
     "end_time": "2020-12-12T03:22:42.198362Z",
     "start_time": "2020-12-12T03:22:42.188626Z"
    }
   },
   "outputs": [],
   "source": [
    "#Day duration\n",
    "time_sunrise = pd.to_datetime(df_final_daily['Sunrise'], format='%H%M')\n",
    "time_sunset = pd.to_datetime(df_final_daily['Sunset'], format='%H%M')\n",
    "df_final_daily['Day_duration'] = (time_sunset -\n",
    "                                  time_sunrise).astype('timedelta64[m]')"
   ]
  },
  {
   "cell_type": "code",
   "execution_count": 38,
   "metadata": {
    "ExecuteTime": {
     "end_time": "2020-12-12T03:22:43.138957Z",
     "start_time": "2020-12-12T03:22:43.131388Z"
    }
   },
   "outputs": [],
   "source": [
    "df_final_daily['DailyPeakWindDirection'] = df_final_daily[\n",
    "                            'DailyPeakWindDirection'].astype(str).apply(\n",
    "                            lambda x: x[:-1] if 's' in x else x).astype(float)"
   ]
  },
  {
   "cell_type": "code",
   "execution_count": 39,
   "metadata": {
    "ExecuteTime": {
     "end_time": "2020-12-12T03:22:58.587995Z",
     "start_time": "2020-12-12T03:22:58.580455Z"
    }
   },
   "outputs": [],
   "source": [
    "df_final_daily['DailyPeakWindSpeed'] = df_final_daily['DailyPeakWindSpeed'].astype(str).apply(lambda x: \n",
    "                                                                x[:-1] if 's' in x else x).astype(float)"
   ]
  },
  {
   "cell_type": "code",
   "execution_count": 40,
   "metadata": {
    "ExecuteTime": {
     "end_time": "2020-12-12T03:23:00.315813Z",
     "start_time": "2020-12-12T03:23:00.308718Z"
    }
   },
   "outputs": [],
   "source": [
    "df_final_daily['DailyPrecipitation'] = df_final_daily['DailyPrecipitation'].replace('T',0).astype(float)"
   ]
  },
  {
   "cell_type": "code",
   "execution_count": 42,
   "metadata": {
    "ExecuteTime": {
     "end_time": "2020-12-12T03:23:26.686990Z",
     "start_time": "2020-12-12T03:23:26.678954Z"
    }
   },
   "outputs": [],
   "source": [
    "df_final_daily['DailySnowDepth'].replace('T',1,inplace=True)\n",
    "df_final_daily['DailySnowDepth'].fillna(0,inplace=True)\n",
    "df_final_daily['DailySnowDepth'] = df_final_daily['DailySnowDepth'].astype(int)"
   ]
  },
  {
   "cell_type": "code",
   "execution_count": 43,
   "metadata": {
    "ExecuteTime": {
     "end_time": "2020-12-12T03:23:47.564937Z",
     "start_time": "2020-12-12T03:23:47.555354Z"
    }
   },
   "outputs": [],
   "source": [
    "df_final_daily['DailySnowfall'].replace('T',0.5,inplace=True)\n",
    "df_final_daily['DailySnowfall'].fillna(0,inplace=True)\n",
    "df_final_daily['DailySnowfall'] = df_final_daily['DailySnowfall'].astype(float)"
   ]
  },
  {
   "cell_type": "code",
   "execution_count": 44,
   "metadata": {
    "ExecuteTime": {
     "end_time": "2020-12-12T03:23:49.804240Z",
     "start_time": "2020-12-12T03:23:49.788865Z"
    }
   },
   "outputs": [],
   "source": [
    "df_final_hourly.drop([\n",
    "    'Station', 'REM', 'REPORT_TYPE.1', 'SOURCE.1', 'HourlySkyConditions',\n",
    "    'BackupName', 'BackupElements', 'Report_type', 'Source', 'BackupEquipment',\n",
    "    'WindEquipmentChangeDate'], axis=1, inplace=True)"
   ]
  },
  {
   "cell_type": "code",
   "execution_count": 45,
   "metadata": {
    "ExecuteTime": {
     "end_time": "2020-12-12T03:23:53.487342Z",
     "start_time": "2020-12-12T03:23:53.412676Z"
    }
   },
   "outputs": [],
   "source": [
    "df_final_hourly['Date_ymd'] = df_final_hourly['Date_day_hour'].apply(lambda x: x.strftime(\"%Y-%m-%d\"))"
   ]
  },
  {
   "cell_type": "code",
   "execution_count": 52,
   "metadata": {
    "ExecuteTime": {
     "end_time": "2020-12-12T03:26:44.226937Z",
     "start_time": "2020-12-12T03:26:44.218519Z"
    }
   },
   "outputs": [],
   "source": [
    "df_final_hourly.drop(index= 5987,axis=0,inplace=True)"
   ]
  },
  {
   "cell_type": "code",
   "execution_count": 53,
   "metadata": {
    "ExecuteTime": {
     "end_time": "2020-12-12T03:26:50.445102Z",
     "start_time": "2020-12-12T03:26:50.386785Z"
    }
   },
   "outputs": [],
   "source": [
    "# To type float/int\n",
    "df_final_hourly.HourlyWetBulbTemperature = df_final_hourly.HourlyWetBulbTemperature.astype(\n",
    "                            str).apply(lambda x: x[:-1] if '*' in x else x).astype(float)\n",
    "df_final_hourly.HourlyDewPointTemperature = df_final_hourly.HourlyDewPointTemperature.astype(\n",
    "                            str).apply(lambda x: x[:-1] if 's' in x else x).astype(float)\n",
    "df_final_hourly.HourlySeaLevelPressure = df_final_hourly.HourlySeaLevelPressure.astype(\n",
    "                            str).apply(lambda x: x[:-1] if 's' in x else x).astype(float)\n",
    "df_final_hourly.HourlyStationPressure = df_final_hourly.HourlyStationPressure.astype(\n",
    "                            str).apply(lambda x: x[:-1] if 's' in x else x).astype(float)\n",
    "df_final_hourly.HourlyVisibility = df_final_hourly.HourlyVisibility.astype(\n",
    "                            str).apply(lambda x: x[:-1] if 'V' in x else x).astype(float)\n",
    "df_final_hourly.HourlyAltimeterSetting = df_final_hourly.HourlyAltimeterSetting.astype(\n",
    "                            str).apply(lambda x: x[:-1] if 's' in x else x).astype(float)\n",
    "df_final_hourly.HourlyPrecipitation = df_final_hourly.HourlyPrecipitation.replace('T',\n",
    "                            0).astype(str).apply(lambda x: x[:-1] if 's' in x else x).astype(float)\n",
    "df_final_hourly.HourlyWindDirection = df_final_hourly.HourlyWindDirection.replace(\n",
    "                            'VRB', '000').astype(int)\n",
    "df_final_hourly.SkyConditions_level = df_final_hourly.SkyConditions_level.replace(\n",
    "                            'na', 0).astype(int)"
   ]
  },
  {
   "cell_type": "code",
   "execution_count": 54,
   "metadata": {
    "ExecuteTime": {
     "end_time": "2020-12-12T03:26:52.491520Z",
     "start_time": "2020-12-12T03:26:52.484056Z"
    }
   },
   "outputs": [],
   "source": [
    "df_final_hourly.HourlyDryBulbTemperature = df_final_hourly.HourlyDryBulbTemperature.astype(int)"
   ]
  },
  {
   "cell_type": "code",
   "execution_count": 56,
   "metadata": {
    "ExecuteTime": {
     "end_time": "2020-12-12T03:26:54.348744Z",
     "start_time": "2020-12-12T03:26:54.338149Z"
    }
   },
   "outputs": [],
   "source": [
    "df_final_hourly.HourlyDewPointTemperature = df_final_hourly.HourlyDewPointTemperature.astype(int)\n",
    "df_final_hourly.HourlyDryBulbTemperature = df_final_hourly.HourlyDryBulbTemperature.astype(int)\n",
    "df_final_hourly.HourlyRelativeHumidity = df_final_hourly.HourlyRelativeHumidity.astype(int)\n",
    "df_final_hourly.HourlyWetBulbTemperature = df_final_hourly.HourlyWetBulbTemperature.astype(int)"
   ]
  },
  {
   "cell_type": "code",
   "execution_count": 58,
   "metadata": {
    "ExecuteTime": {
     "end_time": "2020-12-12T03:27:33.145609Z",
     "start_time": "2020-12-12T03:27:33.021990Z"
    }
   },
   "outputs": [],
   "source": [
    "aggs = ['min', 'max', 'mean', 'median', 'std']\n",
    "result = df_final_hourly.groupby('Date_ymd').agg({'HourlyDryBulbTemperature':aggs,\n",
    "                                                  'HourlyRelativeHumidity':aggs,\n",
    "                                                  'HourlyDewPointTemperature':aggs,\n",
    "                                                  'Electric_KWAC_Power':aggs+['sum'], \n",
    "                                                  'Inverter_1':aggs+['sum'], 'Inverter_2':aggs+['sum'],\n",
    "                                                  'Inverter_3':aggs+['sum'], 'Inverter_4':aggs+['sum'], \n",
    "                                                  'Inverter_5':aggs+['sum'], 'Inverter_6':aggs+['sum'], \n",
    "                                                  'Inverter_7':aggs+['sum'], 'Inverter_8':aggs+['sum'], \n",
    "                                                  'Solar_Irradiance':aggs+['sum'],\n",
    "                                                  'HourlyWetBulbTemperature':aggs, \n",
    "                                                  'HourlyWindSpeed':aggs,\n",
    "                                                 }).reset_index()"
   ]
  },
  {
   "cell_type": "code",
   "execution_count": 59,
   "metadata": {
    "ExecuteTime": {
     "end_time": "2020-12-12T03:28:56.801377Z",
     "start_time": "2020-12-12T03:28:56.795191Z"
    }
   },
   "outputs": [],
   "source": [
    "result.columns = ['_'.join(col).strip() for col in result.columns.values]"
   ]
  },
  {
   "cell_type": "code",
   "execution_count": 60,
   "metadata": {
    "ExecuteTime": {
     "end_time": "2020-12-12T03:28:57.214009Z",
     "start_time": "2020-12-12T03:28:57.199477Z"
    }
   },
   "outputs": [],
   "source": [
    "result.rename(columns={\"Date_ymd_\": \"Date\"},inplace=True)\n",
    "result['Date'] = pd.to_datetime(result['Date'])"
   ]
  },
  {
   "cell_type": "code",
   "execution_count": 61,
   "metadata": {
    "ExecuteTime": {
     "end_time": "2020-12-12T03:28:57.880561Z",
     "start_time": "2020-12-12T03:28:57.871297Z"
    }
   },
   "outputs": [],
   "source": [
    "df_final_daily.rename(columns={\"Date_day\": \"Date\"},inplace=True)"
   ]
  },
  {
   "cell_type": "code",
   "execution_count": 62,
   "metadata": {
    "ExecuteTime": {
     "end_time": "2020-12-12T03:28:58.918102Z",
     "start_time": "2020-12-12T03:28:58.882929Z"
    }
   },
   "outputs": [],
   "source": [
    "df_agg_daily = pd.merge(pd.merge(df_final_daily,result,on='Date'),solar_angles,on='Date')"
   ]
  },
  {
   "cell_type": "code",
   "execution_count": 63,
   "metadata": {
    "ExecuteTime": {
     "end_time": "2020-12-12T03:28:59.553013Z",
     "start_time": "2020-12-12T03:28:59.542492Z"
    }
   },
   "outputs": [
    {
     "data": {
      "text/plain": [
       "Index(['Date', 'Electric_KWAC_Power', 'Inverter_1', 'Inverter_2', 'Inverter_3',\n",
       "       'Inverter_4', 'Inverter_5', 'Inverter_6', 'Inverter_7', 'Inverter_8',\n",
       "       'Solar_Irradiance', 'STATION', 'DATE', 'REPORT_TYPE', 'SOURCE',\n",
       "       'BackupElements', 'BackupEquipment', 'BackupName',\n",
       "       'DailyAverageDewPointTemperature', 'DailyAverageDryBulbTemperature',\n",
       "       'DailyAverageRelativeHumidity', 'DailyAverageSeaLevelPressure',\n",
       "       'DailyAverageStationPressure', 'DailyAverageWetBulbTemperature',\n",
       "       'DailyAverageWindSpeed', 'DailyCoolingDegreeDays',\n",
       "       'DailyDepartureFromNormalAverageTemperature', 'DailyHeatingDegreeDays',\n",
       "       'DailyMaximumDryBulbTemperature', 'DailyMinimumDryBulbTemperature',\n",
       "       'DailyPeakWindDirection', 'DailyPeakWindSpeed', 'DailyPrecipitation',\n",
       "       'DailySnowDepth', 'DailySnowfall', 'DailySustainedWindDirection',\n",
       "       'DailySustainedWindSpeed', 'REM', 'REPORT_TYPE.1', 'SOURCE.1',\n",
       "       'Sunrise', 'Sunset', 'WindEquipmentChangeDate', 'Day_duration',\n",
       "       'HourlyDryBulbTemperature_min', 'HourlyDryBulbTemperature_max',\n",
       "       'HourlyDryBulbTemperature_mean', 'HourlyDryBulbTemperature_median',\n",
       "       'HourlyDryBulbTemperature_std', 'HourlyRelativeHumidity_min',\n",
       "       'HourlyRelativeHumidity_max', 'HourlyRelativeHumidity_mean',\n",
       "       'HourlyRelativeHumidity_median', 'HourlyRelativeHumidity_std',\n",
       "       'HourlyDewPointTemperature_min', 'HourlyDewPointTemperature_max',\n",
       "       'HourlyDewPointTemperature_mean', 'HourlyDewPointTemperature_median',\n",
       "       'HourlyDewPointTemperature_std', 'Electric_KWAC_Power_min'],\n",
       "      dtype='object')"
      ]
     },
     "execution_count": 63,
     "metadata": {},
     "output_type": "execute_result"
    }
   ],
   "source": [
    "df_agg_daily.columns[:60]"
   ]
  },
  {
   "cell_type": "code",
   "execution_count": 64,
   "metadata": {
    "ExecuteTime": {
     "end_time": "2020-12-12T03:30:05.129065Z",
     "start_time": "2020-12-12T03:30:05.050688Z"
    },
    "scrolled": true
   },
   "outputs": [],
   "source": [
    "df_agg_daily['Temperature_max-min'] = df_agg_daily[\n",
    "                        'HourlyDryBulbTemperature_max'] - df_agg_daily[\n",
    "                        'HourlyDryBulbTemperature_min']\n",
    "\n",
    "mean_power_June21 = df_agg_daily[df_agg_daily['Date'] == '2020-06-21']['Electric_KWAC_Power_mean']\n",
    "df_agg_daily['Power_mean_deviation_June21'] = df_agg_daily['Electric_KWAC_Power_mean'] - mean_power_June21\n",
    "\n",
    "sum_power_June21 = df_agg_daily[df_agg_daily['Date'] == '2020-06-21']['Electric_KWAC_Power_sum']\n",
    "df_agg_daily['Power_sum_deviation_June21'] = df_agg_daily['Electric_KWAC_Power_sum'] - sum_power_June21\n",
    "\n",
    "mean_solar_irradiance_June21 = df_agg_daily[df_agg_daily['Date'] == '2020-06-21']['Solar_Irradiance_mean']\n",
    "df_agg_daily['Irradiance_deviation_June21'] = df_agg_daily[ 'Solar_Irradiance_mean'] - mean_solar_irradiance_June21\n",
    "\n",
    "sum_solar_irradiance_June21 = df_agg_daily[df_agg_daily['Date'] == '2020-06-21']['Solar_Irradiance_sum']\n",
    "df_agg_daily['Irradiance_sum_deviation_June21'] = df_agg_daily['Solar_Irradiance_sum'] - sum_solar_irradiance_June21"
   ]
  },
  {
   "cell_type": "code",
   "execution_count": null,
   "metadata": {
    "ExecuteTime": {
     "end_time": "2020-11-29T01:21:48.113212Z",
     "start_time": "2020-11-29T01:21:48.026296Z"
    }
   },
   "outputs": [],
   "source": [
    "#Save to csv file\n",
    "df_agg_daily.to_csv('All_aggregations_daily.csv')"
   ]
  },
  {
   "cell_type": "markdown",
   "metadata": {},
   "source": [
    "## Hourly aggregations"
   ]
  },
  {
   "cell_type": "code",
   "execution_count": 65,
   "metadata": {
    "ExecuteTime": {
     "end_time": "2020-12-12T03:30:36.955839Z",
     "start_time": "2020-12-12T03:30:36.944557Z"
    }
   },
   "outputs": [
    {
     "data": {
      "text/plain": [
       "Date                         datetime64[ns]\n",
       "Electric_KWAC_Power                  object\n",
       "Energy_(KWh)                         object\n",
       "Inverter_1                          float64\n",
       "Inverter_2                          float64\n",
       "Inverter_3                          float64\n",
       "Inverter_4                          float64\n",
       "Inverter_5                          float64\n",
       "Inverter_6                          float64\n",
       "Inverter_7                          float64\n",
       "Inverter_8                          float64\n",
       "Solar_Irradiance                    float64\n",
       "Power_for_Tesla_Battery              object\n",
       "Current_Charge_Level(KWh)            object\n",
       "Station                               int64\n",
       "Report_type                          object\n",
       "Source                               object\n",
       "BackupElements                       object\n",
       "BackupEquipment                      object\n",
       "BackupName                           object\n",
       "HourlyAltimeterSetting               object\n",
       "HourlyDewPointTemperature            object\n",
       "HourlyDryBulbTemperature             object\n",
       "HourlyPrecipitation                  object\n",
       "HourlyRelativeHumidity               object\n",
       "HourlySeaLevelPressure               object\n",
       "HourlySkyConditions                  object\n",
       "HourlyStationPressure                object\n",
       "HourlyVisibility                     object\n",
       "HourlyWetBulbTemperature             object\n",
       "HourlyWindDirection                  object\n",
       "HourlyWindSpeed                     float64\n",
       "REM                                  object\n",
       "REPORT_TYPE.1                        object\n",
       "SOURCE.1                             object\n",
       "WindEquipmentChangeDate              object\n",
       "SkyConditions_level                  object\n",
       "dtype: object"
      ]
     },
     "execution_count": 65,
     "metadata": {},
     "output_type": "execute_result"
    }
   ],
   "source": [
    "df_final_minutely.dtypes"
   ]
  },
  {
   "cell_type": "code",
   "execution_count": 66,
   "metadata": {
    "ExecuteTime": {
     "end_time": "2020-12-12T03:30:39.214417Z",
     "start_time": "2020-12-12T03:30:37.971411Z"
    }
   },
   "outputs": [],
   "source": [
    "df_final_minutely.fillna(0,inplace=True)"
   ]
  },
  {
   "cell_type": "code",
   "execution_count": 71,
   "metadata": {
    "ExecuteTime": {
     "end_time": "2020-12-12T03:31:43.434975Z",
     "start_time": "2020-12-12T03:31:43.170742Z"
    }
   },
   "outputs": [],
   "source": [
    "df_final_minutely.drop(index=df_final_minutely[df_final_minutely.HourlyDewPointTemperature=='*'].index,axis=0,inplace=True)"
   ]
  },
  {
   "cell_type": "code",
   "execution_count": 73,
   "metadata": {
    "ExecuteTime": {
     "end_time": "2020-12-12T03:32:02.502471Z",
     "start_time": "2020-12-12T03:32:00.691433Z"
    }
   },
   "outputs": [],
   "source": [
    "# To type float/int\n",
    "df_final_minutely.HourlyDewPointTemperature = df_final_minutely.HourlyDewPointTemperature.astype(str).apply(lambda x: \n",
    "                                                                x[:-1] if 's' in x else x).astype(float)\n",
    "df_final_minutely.HourlySeaLevelPressure = df_final_minutely.HourlySeaLevelPressure.astype(str).apply(lambda x: \n",
    "                                                                x[:-1] if 's' in x else x).astype(float)\n",
    "df_final_minutely.HourlyStationPressure = df_final_minutely.HourlyStationPressure.astype(str).apply(lambda x: \n",
    "                                                                x[:-1] if 's' in x else x).astype(float)\n",
    "df_final_minutely.HourlyVisibility = df_final_minutely.HourlyVisibility.astype(str).apply(lambda x: \n",
    "                                                                x[:-1] if 'V' in x else x).astype(float)\n",
    "df_final_minutely.HourlyAltimeterSetting = df_final_minutely.HourlyAltimeterSetting.astype(str).apply(lambda x: \n",
    "                                                                x[:-1] if 's' in x else x).astype(float)\n",
    "df_final_minutely.HourlyPrecipitation = df_final_minutely.HourlyPrecipitation.replace('T',0).astype(str).apply(lambda x: \n",
    "                                                                x[:-1] if 's' in x else x).astype(float)\n",
    "df_final_minutely.HourlyWindDirection = df_final_minutely.HourlyWindDirection.replace('VRB','000').astype(int)\n",
    "df_final_minutely.SkyConditions_level = df_final_minutely.SkyConditions_level.replace('na',0).astype(int)"
   ]
  },
  {
   "cell_type": "code",
   "execution_count": 74,
   "metadata": {
    "ExecuteTime": {
     "end_time": "2020-12-12T03:32:03.107167Z",
     "start_time": "2020-12-12T03:32:03.006802Z"
    }
   },
   "outputs": [],
   "source": [
    "df_final_minutely.HourlyDryBulbTemperature = df_final_minutely.HourlyDryBulbTemperature.astype(float)"
   ]
  },
  {
   "cell_type": "code",
   "execution_count": 76,
   "metadata": {
    "ExecuteTime": {
     "end_time": "2020-12-12T03:32:08.006356Z",
     "start_time": "2020-12-12T03:32:07.598075Z"
    }
   },
   "outputs": [],
   "source": [
    "df_final_minutely.drop(index=df_final_minutely[df_final_minutely.HourlyRelativeHumidity =='*'].index,axis=0,inplace = True)"
   ]
  },
  {
   "cell_type": "code",
   "execution_count": 77,
   "metadata": {
    "ExecuteTime": {
     "end_time": "2020-12-12T03:32:37.986719Z",
     "start_time": "2020-12-12T03:32:37.780963Z"
    }
   },
   "outputs": [],
   "source": [
    "df_final_minutely.HourlyRelativeHumidity = df_final_minutely.HourlyRelativeHumidity.astype(float)\n",
    "df_final_minutely.HourlyWetBulbTemperature = df_final_minutely.HourlyWetBulbTemperature.astype(float)\n",
    "df_final_minutely.HourlyDewPointTemperature = df_final_minutely.HourlyDewPointTemperature.astype(float)          \n",
    "df_final_minutely.HourlyDryBulbTemperature = df_final_minutely.HourlyDryBulbTemperature.astype(float)"
   ]
  },
  {
   "cell_type": "code",
   "execution_count": 78,
   "metadata": {
    "ExecuteTime": {
     "end_time": "2020-12-12T03:32:42.013399Z",
     "start_time": "2020-12-12T03:32:38.047740Z"
    }
   },
   "outputs": [],
   "source": [
    "aggs = ['min', 'max', 'mean', 'median', 'std']\n",
    "df_final_minutely['Date_ymdh'] = df_final_minutely['Date'].apply(lambda x: x.strftime(\"%Y-%m-%d %H\"))\n",
    "result = df_final_minutely.groupby('Date_ymdh').agg({'HourlyDryBulbTemperature':aggs,\n",
    "                                                  'HourlyRelativeHumidity':aggs,\n",
    "                                                  'HourlyDewPointTemperature':aggs,\n",
    "                                                  'Electric_KWAC_Power':aggs+['sum'],\n",
    "                                                  'Inverter_1':aggs+['sum'], 'Inverter_2':aggs+['sum'],\n",
    "                                                  'Inverter_3':aggs+['sum'], 'Inverter_4':aggs+['sum'], \n",
    "                                                  'Inverter_5':aggs+['sum'], 'Inverter_6':aggs+['sum'], \n",
    "                                                  'Inverter_7':aggs+['sum'], 'Inverter_8':aggs+['sum'], \n",
    "                                                  'Solar_Irradiance':aggs+['sum'], \n",
    "                                                  'HourlyWetBulbTemperature':aggs, 'HourlyWindDirection':aggs, \n",
    "                                                  'HourlyWindSpeed':aggs,'SkyConditions_level':aggs}).reset_index()"
   ]
  },
  {
   "cell_type": "code",
   "execution_count": 79,
   "metadata": {
    "ExecuteTime": {
     "end_time": "2020-12-12T03:32:42.023462Z",
     "start_time": "2020-12-12T03:32:42.016018Z"
    }
   },
   "outputs": [],
   "source": [
    "result.columns = ['_'.join(col).strip() for col in result.columns.values]"
   ]
  },
  {
   "cell_type": "code",
   "execution_count": 80,
   "metadata": {
    "ExecuteTime": {
     "end_time": "2020-12-12T03:32:42.169723Z",
     "start_time": "2020-12-12T03:32:42.027946Z"
    }
   },
   "outputs": [
    {
     "data": {
      "text/html": [
       "<div>\n",
       "<style scoped>\n",
       "    .dataframe tbody tr th:only-of-type {\n",
       "        vertical-align: middle;\n",
       "    }\n",
       "\n",
       "    .dataframe tbody tr th {\n",
       "        vertical-align: top;\n",
       "    }\n",
       "\n",
       "    .dataframe thead th {\n",
       "        text-align: right;\n",
       "    }\n",
       "</style>\n",
       "<table border=\"1\" class=\"dataframe\">\n",
       "  <thead>\n",
       "    <tr style=\"text-align: right;\">\n",
       "      <th></th>\n",
       "      <th>Date_ymdh_</th>\n",
       "      <th>HourlyDryBulbTemperature_min</th>\n",
       "      <th>HourlyDryBulbTemperature_max</th>\n",
       "      <th>HourlyDryBulbTemperature_mean</th>\n",
       "      <th>HourlyDryBulbTemperature_median</th>\n",
       "      <th>HourlyDryBulbTemperature_std</th>\n",
       "      <th>HourlyRelativeHumidity_min</th>\n",
       "      <th>HourlyRelativeHumidity_max</th>\n",
       "      <th>HourlyRelativeHumidity_mean</th>\n",
       "      <th>HourlyRelativeHumidity_median</th>\n",
       "      <th>HourlyRelativeHumidity_std</th>\n",
       "      <th>HourlyDewPointTemperature_min</th>\n",
       "      <th>HourlyDewPointTemperature_max</th>\n",
       "      <th>HourlyDewPointTemperature_mean</th>\n",
       "      <th>HourlyDewPointTemperature_median</th>\n",
       "      <th>HourlyDewPointTemperature_std</th>\n",
       "      <th>Electric_KWAC_Power_min</th>\n",
       "      <th>Electric_KWAC_Power_max</th>\n",
       "      <th>Electric_KWAC_Power_mean</th>\n",
       "      <th>Electric_KWAC_Power_median</th>\n",
       "      <th>Electric_KWAC_Power_std</th>\n",
       "      <th>Electric_KWAC_Power_sum</th>\n",
       "      <th>Inverter_1_min</th>\n",
       "      <th>Inverter_1_max</th>\n",
       "      <th>Inverter_1_mean</th>\n",
       "      <th>Inverter_1_median</th>\n",
       "      <th>Inverter_1_std</th>\n",
       "      <th>Inverter_1_sum</th>\n",
       "      <th>Inverter_2_min</th>\n",
       "      <th>Inverter_2_max</th>\n",
       "      <th>Inverter_2_mean</th>\n",
       "      <th>Inverter_2_median</th>\n",
       "      <th>Inverter_2_std</th>\n",
       "      <th>Inverter_2_sum</th>\n",
       "      <th>Inverter_3_min</th>\n",
       "      <th>Inverter_3_max</th>\n",
       "      <th>Inverter_3_mean</th>\n",
       "      <th>Inverter_3_median</th>\n",
       "      <th>Inverter_3_std</th>\n",
       "      <th>Inverter_3_sum</th>\n",
       "      <th>Inverter_4_min</th>\n",
       "      <th>Inverter_4_max</th>\n",
       "      <th>Inverter_4_mean</th>\n",
       "      <th>Inverter_4_median</th>\n",
       "      <th>Inverter_4_std</th>\n",
       "      <th>Inverter_4_sum</th>\n",
       "      <th>Inverter_5_min</th>\n",
       "      <th>Inverter_5_max</th>\n",
       "      <th>Inverter_5_mean</th>\n",
       "      <th>Inverter_5_median</th>\n",
       "      <th>Inverter_5_std</th>\n",
       "      <th>Inverter_5_sum</th>\n",
       "      <th>Inverter_6_min</th>\n",
       "      <th>Inverter_6_max</th>\n",
       "      <th>Inverter_6_mean</th>\n",
       "      <th>Inverter_6_median</th>\n",
       "      <th>Inverter_6_std</th>\n",
       "      <th>Inverter_6_sum</th>\n",
       "      <th>Inverter_7_min</th>\n",
       "      <th>Inverter_7_max</th>\n",
       "      <th>Inverter_7_mean</th>\n",
       "      <th>Inverter_7_median</th>\n",
       "      <th>Inverter_7_std</th>\n",
       "      <th>Inverter_7_sum</th>\n",
       "      <th>Inverter_8_min</th>\n",
       "      <th>Inverter_8_max</th>\n",
       "      <th>Inverter_8_mean</th>\n",
       "      <th>Inverter_8_median</th>\n",
       "      <th>Inverter_8_std</th>\n",
       "      <th>Inverter_8_sum</th>\n",
       "      <th>Solar_Irradiance_min</th>\n",
       "      <th>Solar_Irradiance_max</th>\n",
       "      <th>Solar_Irradiance_mean</th>\n",
       "      <th>Solar_Irradiance_median</th>\n",
       "      <th>Solar_Irradiance_std</th>\n",
       "      <th>Solar_Irradiance_sum</th>\n",
       "      <th>HourlyWetBulbTemperature_min</th>\n",
       "      <th>HourlyWetBulbTemperature_max</th>\n",
       "      <th>HourlyWetBulbTemperature_mean</th>\n",
       "      <th>HourlyWetBulbTemperature_median</th>\n",
       "      <th>HourlyWetBulbTemperature_std</th>\n",
       "      <th>HourlyWindDirection_min</th>\n",
       "      <th>HourlyWindDirection_max</th>\n",
       "      <th>HourlyWindDirection_mean</th>\n",
       "      <th>HourlyWindDirection_median</th>\n",
       "      <th>HourlyWindDirection_std</th>\n",
       "      <th>HourlyWindSpeed_min</th>\n",
       "      <th>HourlyWindSpeed_max</th>\n",
       "      <th>HourlyWindSpeed_mean</th>\n",
       "      <th>HourlyWindSpeed_median</th>\n",
       "      <th>HourlyWindSpeed_std</th>\n",
       "      <th>SkyConditions_level_min</th>\n",
       "      <th>SkyConditions_level_max</th>\n",
       "      <th>SkyConditions_level_mean</th>\n",
       "      <th>SkyConditions_level_median</th>\n",
       "      <th>SkyConditions_level_std</th>\n",
       "    </tr>\n",
       "  </thead>\n",
       "  <tbody>\n",
       "    <tr>\n",
       "      <th>0</th>\n",
       "      <td>2020-02-01 00</td>\n",
       "      <td>28.0</td>\n",
       "      <td>28.0</td>\n",
       "      <td>28.000000</td>\n",
       "      <td>28.0</td>\n",
       "      <td>0.000000</td>\n",
       "      <td>88.0</td>\n",
       "      <td>88.0</td>\n",
       "      <td>88.00</td>\n",
       "      <td>88.0</td>\n",
       "      <td>0.000000</td>\n",
       "      <td>25.0</td>\n",
       "      <td>25.0</td>\n",
       "      <td>25.0</td>\n",
       "      <td>25.0</td>\n",
       "      <td>0.0</td>\n",
       "      <td>-0.026958</td>\n",
       "      <td>0.011129</td>\n",
       "      <td>-0.007914</td>\n",
       "      <td>-0.007914</td>\n",
       "      <td>0.011274</td>\n",
       "      <td>-0.474856</td>\n",
       "      <td>0.0</td>\n",
       "      <td>0.0</td>\n",
       "      <td>0.0</td>\n",
       "      <td>0.0</td>\n",
       "      <td>0.0</td>\n",
       "      <td>0.0</td>\n",
       "      <td>0.0</td>\n",
       "      <td>0.0</td>\n",
       "      <td>0.0</td>\n",
       "      <td>0.0</td>\n",
       "      <td>0.0</td>\n",
       "      <td>0.0</td>\n",
       "      <td>0.0</td>\n",
       "      <td>0.0</td>\n",
       "      <td>0.0</td>\n",
       "      <td>0.0</td>\n",
       "      <td>0.0</td>\n",
       "      <td>0.0</td>\n",
       "      <td>0.0</td>\n",
       "      <td>0.0</td>\n",
       "      <td>0.0</td>\n",
       "      <td>0.0</td>\n",
       "      <td>0.0</td>\n",
       "      <td>0.0</td>\n",
       "      <td>0.0</td>\n",
       "      <td>0.0</td>\n",
       "      <td>0.0</td>\n",
       "      <td>0.0</td>\n",
       "      <td>0.0</td>\n",
       "      <td>0.0</td>\n",
       "      <td>0.0</td>\n",
       "      <td>0.0</td>\n",
       "      <td>0.0</td>\n",
       "      <td>0.0</td>\n",
       "      <td>0.0</td>\n",
       "      <td>0.0</td>\n",
       "      <td>0.0</td>\n",
       "      <td>0.0</td>\n",
       "      <td>0.0</td>\n",
       "      <td>0.0</td>\n",
       "      <td>0.0</td>\n",
       "      <td>0.0</td>\n",
       "      <td>0.0</td>\n",
       "      <td>0.0</td>\n",
       "      <td>0.0</td>\n",
       "      <td>0.0</td>\n",
       "      <td>0.0</td>\n",
       "      <td>0.0</td>\n",
       "      <td>0.0</td>\n",
       "      <td>0.0</td>\n",
       "      <td>0.0</td>\n",
       "      <td>0.0</td>\n",
       "      <td>0.0</td>\n",
       "      <td>0.0</td>\n",
       "      <td>27.0</td>\n",
       "      <td>27.0</td>\n",
       "      <td>27.000000</td>\n",
       "      <td>27.0</td>\n",
       "      <td>0.000000</td>\n",
       "      <td>0</td>\n",
       "      <td>0</td>\n",
       "      <td>0.0</td>\n",
       "      <td>0</td>\n",
       "      <td>0.000000</td>\n",
       "      <td>0.0</td>\n",
       "      <td>0.0</td>\n",
       "      <td>0.000000</td>\n",
       "      <td>0.0</td>\n",
       "      <td>0.000000</td>\n",
       "      <td>8</td>\n",
       "      <td>8</td>\n",
       "      <td>8.0</td>\n",
       "      <td>8</td>\n",
       "      <td>0.0</td>\n",
       "    </tr>\n",
       "    <tr>\n",
       "      <th>1</th>\n",
       "      <td>2020-02-01 01</td>\n",
       "      <td>28.0</td>\n",
       "      <td>29.0</td>\n",
       "      <td>28.583333</td>\n",
       "      <td>29.0</td>\n",
       "      <td>0.497167</td>\n",
       "      <td>85.0</td>\n",
       "      <td>88.0</td>\n",
       "      <td>86.25</td>\n",
       "      <td>85.0</td>\n",
       "      <td>1.491501</td>\n",
       "      <td>25.0</td>\n",
       "      <td>25.0</td>\n",
       "      <td>25.0</td>\n",
       "      <td>25.0</td>\n",
       "      <td>0.0</td>\n",
       "      <td>0.011775</td>\n",
       "      <td>0.097115</td>\n",
       "      <td>0.054111</td>\n",
       "      <td>0.054099</td>\n",
       "      <td>0.025446</td>\n",
       "      <td>3.246659</td>\n",
       "      <td>0.0</td>\n",
       "      <td>0.0</td>\n",
       "      <td>0.0</td>\n",
       "      <td>0.0</td>\n",
       "      <td>0.0</td>\n",
       "      <td>0.0</td>\n",
       "      <td>0.0</td>\n",
       "      <td>0.0</td>\n",
       "      <td>0.0</td>\n",
       "      <td>0.0</td>\n",
       "      <td>0.0</td>\n",
       "      <td>0.0</td>\n",
       "      <td>0.0</td>\n",
       "      <td>0.0</td>\n",
       "      <td>0.0</td>\n",
       "      <td>0.0</td>\n",
       "      <td>0.0</td>\n",
       "      <td>0.0</td>\n",
       "      <td>0.0</td>\n",
       "      <td>0.0</td>\n",
       "      <td>0.0</td>\n",
       "      <td>0.0</td>\n",
       "      <td>0.0</td>\n",
       "      <td>0.0</td>\n",
       "      <td>0.0</td>\n",
       "      <td>0.0</td>\n",
       "      <td>0.0</td>\n",
       "      <td>0.0</td>\n",
       "      <td>0.0</td>\n",
       "      <td>0.0</td>\n",
       "      <td>0.0</td>\n",
       "      <td>0.0</td>\n",
       "      <td>0.0</td>\n",
       "      <td>0.0</td>\n",
       "      <td>0.0</td>\n",
       "      <td>0.0</td>\n",
       "      <td>0.0</td>\n",
       "      <td>0.0</td>\n",
       "      <td>0.0</td>\n",
       "      <td>0.0</td>\n",
       "      <td>0.0</td>\n",
       "      <td>0.0</td>\n",
       "      <td>0.0</td>\n",
       "      <td>0.0</td>\n",
       "      <td>0.0</td>\n",
       "      <td>0.0</td>\n",
       "      <td>0.0</td>\n",
       "      <td>0.0</td>\n",
       "      <td>0.0</td>\n",
       "      <td>0.0</td>\n",
       "      <td>0.0</td>\n",
       "      <td>0.0</td>\n",
       "      <td>0.0</td>\n",
       "      <td>0.0</td>\n",
       "      <td>27.0</td>\n",
       "      <td>28.0</td>\n",
       "      <td>27.583333</td>\n",
       "      <td>28.0</td>\n",
       "      <td>0.497167</td>\n",
       "      <td>0</td>\n",
       "      <td>0</td>\n",
       "      <td>0.0</td>\n",
       "      <td>0</td>\n",
       "      <td>0.000000</td>\n",
       "      <td>0.0</td>\n",
       "      <td>0.0</td>\n",
       "      <td>0.000000</td>\n",
       "      <td>0.0</td>\n",
       "      <td>0.000000</td>\n",
       "      <td>8</td>\n",
       "      <td>8</td>\n",
       "      <td>8.0</td>\n",
       "      <td>8</td>\n",
       "      <td>0.0</td>\n",
       "    </tr>\n",
       "    <tr>\n",
       "      <th>2</th>\n",
       "      <td>2020-02-01 02</td>\n",
       "      <td>28.0</td>\n",
       "      <td>29.0</td>\n",
       "      <td>28.416667</td>\n",
       "      <td>28.0</td>\n",
       "      <td>0.497167</td>\n",
       "      <td>85.0</td>\n",
       "      <td>88.0</td>\n",
       "      <td>86.75</td>\n",
       "      <td>88.0</td>\n",
       "      <td>1.491501</td>\n",
       "      <td>25.0</td>\n",
       "      <td>25.0</td>\n",
       "      <td>25.0</td>\n",
       "      <td>25.0</td>\n",
       "      <td>0.0</td>\n",
       "      <td>0.098574</td>\n",
       "      <td>0.184606</td>\n",
       "      <td>0.141590</td>\n",
       "      <td>0.141590</td>\n",
       "      <td>0.025466</td>\n",
       "      <td>8.495380</td>\n",
       "      <td>0.0</td>\n",
       "      <td>0.0</td>\n",
       "      <td>0.0</td>\n",
       "      <td>0.0</td>\n",
       "      <td>0.0</td>\n",
       "      <td>0.0</td>\n",
       "      <td>0.0</td>\n",
       "      <td>0.0</td>\n",
       "      <td>0.0</td>\n",
       "      <td>0.0</td>\n",
       "      <td>0.0</td>\n",
       "      <td>0.0</td>\n",
       "      <td>0.0</td>\n",
       "      <td>0.0</td>\n",
       "      <td>0.0</td>\n",
       "      <td>0.0</td>\n",
       "      <td>0.0</td>\n",
       "      <td>0.0</td>\n",
       "      <td>0.0</td>\n",
       "      <td>0.0</td>\n",
       "      <td>0.0</td>\n",
       "      <td>0.0</td>\n",
       "      <td>0.0</td>\n",
       "      <td>0.0</td>\n",
       "      <td>0.0</td>\n",
       "      <td>0.0</td>\n",
       "      <td>0.0</td>\n",
       "      <td>0.0</td>\n",
       "      <td>0.0</td>\n",
       "      <td>0.0</td>\n",
       "      <td>0.0</td>\n",
       "      <td>0.0</td>\n",
       "      <td>0.0</td>\n",
       "      <td>0.0</td>\n",
       "      <td>0.0</td>\n",
       "      <td>0.0</td>\n",
       "      <td>0.0</td>\n",
       "      <td>0.0</td>\n",
       "      <td>0.0</td>\n",
       "      <td>0.0</td>\n",
       "      <td>0.0</td>\n",
       "      <td>0.0</td>\n",
       "      <td>0.0</td>\n",
       "      <td>0.0</td>\n",
       "      <td>0.0</td>\n",
       "      <td>0.0</td>\n",
       "      <td>0.0</td>\n",
       "      <td>0.0</td>\n",
       "      <td>0.0</td>\n",
       "      <td>0.0</td>\n",
       "      <td>0.0</td>\n",
       "      <td>0.0</td>\n",
       "      <td>0.0</td>\n",
       "      <td>0.0</td>\n",
       "      <td>27.0</td>\n",
       "      <td>28.0</td>\n",
       "      <td>27.416667</td>\n",
       "      <td>27.0</td>\n",
       "      <td>0.497167</td>\n",
       "      <td>0</td>\n",
       "      <td>0</td>\n",
       "      <td>0.0</td>\n",
       "      <td>0</td>\n",
       "      <td>0.000000</td>\n",
       "      <td>0.0</td>\n",
       "      <td>0.0</td>\n",
       "      <td>0.000000</td>\n",
       "      <td>0.0</td>\n",
       "      <td>0.000000</td>\n",
       "      <td>8</td>\n",
       "      <td>8</td>\n",
       "      <td>8.0</td>\n",
       "      <td>8</td>\n",
       "      <td>0.0</td>\n",
       "    </tr>\n",
       "    <tr>\n",
       "      <th>3</th>\n",
       "      <td>2020-02-01 03</td>\n",
       "      <td>28.0</td>\n",
       "      <td>28.0</td>\n",
       "      <td>28.000000</td>\n",
       "      <td>28.0</td>\n",
       "      <td>0.000000</td>\n",
       "      <td>88.0</td>\n",
       "      <td>88.0</td>\n",
       "      <td>88.00</td>\n",
       "      <td>88.0</td>\n",
       "      <td>0.000000</td>\n",
       "      <td>25.0</td>\n",
       "      <td>25.0</td>\n",
       "      <td>25.0</td>\n",
       "      <td>25.0</td>\n",
       "      <td>0.0</td>\n",
       "      <td>0.186064</td>\n",
       "      <td>0.272096</td>\n",
       "      <td>0.229080</td>\n",
       "      <td>0.229080</td>\n",
       "      <td>0.025466</td>\n",
       "      <td>13.744793</td>\n",
       "      <td>0.0</td>\n",
       "      <td>0.0</td>\n",
       "      <td>0.0</td>\n",
       "      <td>0.0</td>\n",
       "      <td>0.0</td>\n",
       "      <td>0.0</td>\n",
       "      <td>0.0</td>\n",
       "      <td>0.0</td>\n",
       "      <td>0.0</td>\n",
       "      <td>0.0</td>\n",
       "      <td>0.0</td>\n",
       "      <td>0.0</td>\n",
       "      <td>0.0</td>\n",
       "      <td>0.0</td>\n",
       "      <td>0.0</td>\n",
       "      <td>0.0</td>\n",
       "      <td>0.0</td>\n",
       "      <td>0.0</td>\n",
       "      <td>0.0</td>\n",
       "      <td>0.0</td>\n",
       "      <td>0.0</td>\n",
       "      <td>0.0</td>\n",
       "      <td>0.0</td>\n",
       "      <td>0.0</td>\n",
       "      <td>0.0</td>\n",
       "      <td>0.0</td>\n",
       "      <td>0.0</td>\n",
       "      <td>0.0</td>\n",
       "      <td>0.0</td>\n",
       "      <td>0.0</td>\n",
       "      <td>0.0</td>\n",
       "      <td>0.0</td>\n",
       "      <td>0.0</td>\n",
       "      <td>0.0</td>\n",
       "      <td>0.0</td>\n",
       "      <td>0.0</td>\n",
       "      <td>0.0</td>\n",
       "      <td>0.0</td>\n",
       "      <td>0.0</td>\n",
       "      <td>0.0</td>\n",
       "      <td>0.0</td>\n",
       "      <td>0.0</td>\n",
       "      <td>0.0</td>\n",
       "      <td>0.0</td>\n",
       "      <td>0.0</td>\n",
       "      <td>0.0</td>\n",
       "      <td>0.0</td>\n",
       "      <td>0.0</td>\n",
       "      <td>0.0</td>\n",
       "      <td>0.0</td>\n",
       "      <td>0.0</td>\n",
       "      <td>0.0</td>\n",
       "      <td>0.0</td>\n",
       "      <td>0.0</td>\n",
       "      <td>27.0</td>\n",
       "      <td>27.0</td>\n",
       "      <td>27.000000</td>\n",
       "      <td>27.0</td>\n",
       "      <td>0.000000</td>\n",
       "      <td>0</td>\n",
       "      <td>240</td>\n",
       "      <td>140.0</td>\n",
       "      <td>240</td>\n",
       "      <td>119.320108</td>\n",
       "      <td>0.0</td>\n",
       "      <td>5.0</td>\n",
       "      <td>2.916667</td>\n",
       "      <td>5.0</td>\n",
       "      <td>2.485836</td>\n",
       "      <td>8</td>\n",
       "      <td>8</td>\n",
       "      <td>8.0</td>\n",
       "      <td>8</td>\n",
       "      <td>0.0</td>\n",
       "    </tr>\n",
       "    <tr>\n",
       "      <th>4</th>\n",
       "      <td>2020-02-01 04</td>\n",
       "      <td>28.0</td>\n",
       "      <td>28.0</td>\n",
       "      <td>28.000000</td>\n",
       "      <td>28.0</td>\n",
       "      <td>0.000000</td>\n",
       "      <td>88.0</td>\n",
       "      <td>88.0</td>\n",
       "      <td>88.00</td>\n",
       "      <td>88.0</td>\n",
       "      <td>0.000000</td>\n",
       "      <td>25.0</td>\n",
       "      <td>25.0</td>\n",
       "      <td>25.0</td>\n",
       "      <td>25.0</td>\n",
       "      <td>0.0</td>\n",
       "      <td>0.273554</td>\n",
       "      <td>0.359586</td>\n",
       "      <td>0.316570</td>\n",
       "      <td>0.316570</td>\n",
       "      <td>0.025466</td>\n",
       "      <td>18.994205</td>\n",
       "      <td>0.0</td>\n",
       "      <td>0.0</td>\n",
       "      <td>0.0</td>\n",
       "      <td>0.0</td>\n",
       "      <td>0.0</td>\n",
       "      <td>0.0</td>\n",
       "      <td>0.0</td>\n",
       "      <td>0.0</td>\n",
       "      <td>0.0</td>\n",
       "      <td>0.0</td>\n",
       "      <td>0.0</td>\n",
       "      <td>0.0</td>\n",
       "      <td>0.0</td>\n",
       "      <td>0.0</td>\n",
       "      <td>0.0</td>\n",
       "      <td>0.0</td>\n",
       "      <td>0.0</td>\n",
       "      <td>0.0</td>\n",
       "      <td>0.0</td>\n",
       "      <td>0.0</td>\n",
       "      <td>0.0</td>\n",
       "      <td>0.0</td>\n",
       "      <td>0.0</td>\n",
       "      <td>0.0</td>\n",
       "      <td>0.0</td>\n",
       "      <td>0.0</td>\n",
       "      <td>0.0</td>\n",
       "      <td>0.0</td>\n",
       "      <td>0.0</td>\n",
       "      <td>0.0</td>\n",
       "      <td>0.0</td>\n",
       "      <td>0.0</td>\n",
       "      <td>0.0</td>\n",
       "      <td>0.0</td>\n",
       "      <td>0.0</td>\n",
       "      <td>0.0</td>\n",
       "      <td>0.0</td>\n",
       "      <td>0.0</td>\n",
       "      <td>0.0</td>\n",
       "      <td>0.0</td>\n",
       "      <td>0.0</td>\n",
       "      <td>0.0</td>\n",
       "      <td>0.0</td>\n",
       "      <td>0.0</td>\n",
       "      <td>0.0</td>\n",
       "      <td>0.0</td>\n",
       "      <td>0.0</td>\n",
       "      <td>0.0</td>\n",
       "      <td>0.0</td>\n",
       "      <td>0.0</td>\n",
       "      <td>0.0</td>\n",
       "      <td>0.0</td>\n",
       "      <td>0.0</td>\n",
       "      <td>0.0</td>\n",
       "      <td>27.0</td>\n",
       "      <td>27.0</td>\n",
       "      <td>27.000000</td>\n",
       "      <td>27.0</td>\n",
       "      <td>0.000000</td>\n",
       "      <td>0</td>\n",
       "      <td>240</td>\n",
       "      <td>100.0</td>\n",
       "      <td>0</td>\n",
       "      <td>119.320108</td>\n",
       "      <td>0.0</td>\n",
       "      <td>5.0</td>\n",
       "      <td>2.083333</td>\n",
       "      <td>0.0</td>\n",
       "      <td>2.485836</td>\n",
       "      <td>8</td>\n",
       "      <td>8</td>\n",
       "      <td>8.0</td>\n",
       "      <td>8</td>\n",
       "      <td>0.0</td>\n",
       "    </tr>\n",
       "  </tbody>\n",
       "</table>\n",
       "</div>"
      ],
      "text/plain": [
       "      Date_ymdh_  HourlyDryBulbTemperature_min  HourlyDryBulbTemperature_max  \\\n",
       "0  2020-02-01 00                          28.0                          28.0   \n",
       "1  2020-02-01 01                          28.0                          29.0   \n",
       "2  2020-02-01 02                          28.0                          29.0   \n",
       "3  2020-02-01 03                          28.0                          28.0   \n",
       "4  2020-02-01 04                          28.0                          28.0   \n",
       "\n",
       "   HourlyDryBulbTemperature_mean  HourlyDryBulbTemperature_median  \\\n",
       "0                      28.000000                             28.0   \n",
       "1                      28.583333                             29.0   \n",
       "2                      28.416667                             28.0   \n",
       "3                      28.000000                             28.0   \n",
       "4                      28.000000                             28.0   \n",
       "\n",
       "   HourlyDryBulbTemperature_std  HourlyRelativeHumidity_min  \\\n",
       "0                      0.000000                        88.0   \n",
       "1                      0.497167                        85.0   \n",
       "2                      0.497167                        85.0   \n",
       "3                      0.000000                        88.0   \n",
       "4                      0.000000                        88.0   \n",
       "\n",
       "   HourlyRelativeHumidity_max  HourlyRelativeHumidity_mean  \\\n",
       "0                        88.0                        88.00   \n",
       "1                        88.0                        86.25   \n",
       "2                        88.0                        86.75   \n",
       "3                        88.0                        88.00   \n",
       "4                        88.0                        88.00   \n",
       "\n",
       "   HourlyRelativeHumidity_median  HourlyRelativeHumidity_std  \\\n",
       "0                           88.0                    0.000000   \n",
       "1                           85.0                    1.491501   \n",
       "2                           88.0                    1.491501   \n",
       "3                           88.0                    0.000000   \n",
       "4                           88.0                    0.000000   \n",
       "\n",
       "   HourlyDewPointTemperature_min  HourlyDewPointTemperature_max  \\\n",
       "0                           25.0                           25.0   \n",
       "1                           25.0                           25.0   \n",
       "2                           25.0                           25.0   \n",
       "3                           25.0                           25.0   \n",
       "4                           25.0                           25.0   \n",
       "\n",
       "   HourlyDewPointTemperature_mean  HourlyDewPointTemperature_median  \\\n",
       "0                            25.0                              25.0   \n",
       "1                            25.0                              25.0   \n",
       "2                            25.0                              25.0   \n",
       "3                            25.0                              25.0   \n",
       "4                            25.0                              25.0   \n",
       "\n",
       "   HourlyDewPointTemperature_std  Electric_KWAC_Power_min  \\\n",
       "0                            0.0                -0.026958   \n",
       "1                            0.0                 0.011775   \n",
       "2                            0.0                 0.098574   \n",
       "3                            0.0                 0.186064   \n",
       "4                            0.0                 0.273554   \n",
       "\n",
       "   Electric_KWAC_Power_max  Electric_KWAC_Power_mean  \\\n",
       "0                 0.011129                 -0.007914   \n",
       "1                 0.097115                  0.054111   \n",
       "2                 0.184606                  0.141590   \n",
       "3                 0.272096                  0.229080   \n",
       "4                 0.359586                  0.316570   \n",
       "\n",
       "   Electric_KWAC_Power_median  Electric_KWAC_Power_std  \\\n",
       "0                   -0.007914                 0.011274   \n",
       "1                    0.054099                 0.025446   \n",
       "2                    0.141590                 0.025466   \n",
       "3                    0.229080                 0.025466   \n",
       "4                    0.316570                 0.025466   \n",
       "\n",
       "   Electric_KWAC_Power_sum  Inverter_1_min  Inverter_1_max  Inverter_1_mean  \\\n",
       "0                -0.474856             0.0             0.0              0.0   \n",
       "1                 3.246659             0.0             0.0              0.0   \n",
       "2                 8.495380             0.0             0.0              0.0   \n",
       "3                13.744793             0.0             0.0              0.0   \n",
       "4                18.994205             0.0             0.0              0.0   \n",
       "\n",
       "   Inverter_1_median  Inverter_1_std  Inverter_1_sum  Inverter_2_min  \\\n",
       "0                0.0             0.0             0.0             0.0   \n",
       "1                0.0             0.0             0.0             0.0   \n",
       "2                0.0             0.0             0.0             0.0   \n",
       "3                0.0             0.0             0.0             0.0   \n",
       "4                0.0             0.0             0.0             0.0   \n",
       "\n",
       "   Inverter_2_max  Inverter_2_mean  Inverter_2_median  Inverter_2_std  \\\n",
       "0             0.0              0.0                0.0             0.0   \n",
       "1             0.0              0.0                0.0             0.0   \n",
       "2             0.0              0.0                0.0             0.0   \n",
       "3             0.0              0.0                0.0             0.0   \n",
       "4             0.0              0.0                0.0             0.0   \n",
       "\n",
       "   Inverter_2_sum  Inverter_3_min  Inverter_3_max  Inverter_3_mean  \\\n",
       "0             0.0             0.0             0.0              0.0   \n",
       "1             0.0             0.0             0.0              0.0   \n",
       "2             0.0             0.0             0.0              0.0   \n",
       "3             0.0             0.0             0.0              0.0   \n",
       "4             0.0             0.0             0.0              0.0   \n",
       "\n",
       "   Inverter_3_median  Inverter_3_std  Inverter_3_sum  Inverter_4_min  \\\n",
       "0                0.0             0.0             0.0             0.0   \n",
       "1                0.0             0.0             0.0             0.0   \n",
       "2                0.0             0.0             0.0             0.0   \n",
       "3                0.0             0.0             0.0             0.0   \n",
       "4                0.0             0.0             0.0             0.0   \n",
       "\n",
       "   Inverter_4_max  Inverter_4_mean  Inverter_4_median  Inverter_4_std  \\\n",
       "0             0.0              0.0                0.0             0.0   \n",
       "1             0.0              0.0                0.0             0.0   \n",
       "2             0.0              0.0                0.0             0.0   \n",
       "3             0.0              0.0                0.0             0.0   \n",
       "4             0.0              0.0                0.0             0.0   \n",
       "\n",
       "   Inverter_4_sum  Inverter_5_min  Inverter_5_max  Inverter_5_mean  \\\n",
       "0             0.0             0.0             0.0              0.0   \n",
       "1             0.0             0.0             0.0              0.0   \n",
       "2             0.0             0.0             0.0              0.0   \n",
       "3             0.0             0.0             0.0              0.0   \n",
       "4             0.0             0.0             0.0              0.0   \n",
       "\n",
       "   Inverter_5_median  Inverter_5_std  Inverter_5_sum  Inverter_6_min  \\\n",
       "0                0.0             0.0             0.0             0.0   \n",
       "1                0.0             0.0             0.0             0.0   \n",
       "2                0.0             0.0             0.0             0.0   \n",
       "3                0.0             0.0             0.0             0.0   \n",
       "4                0.0             0.0             0.0             0.0   \n",
       "\n",
       "   Inverter_6_max  Inverter_6_mean  Inverter_6_median  Inverter_6_std  \\\n",
       "0             0.0              0.0                0.0             0.0   \n",
       "1             0.0              0.0                0.0             0.0   \n",
       "2             0.0              0.0                0.0             0.0   \n",
       "3             0.0              0.0                0.0             0.0   \n",
       "4             0.0              0.0                0.0             0.0   \n",
       "\n",
       "   Inverter_6_sum  Inverter_7_min  Inverter_7_max  Inverter_7_mean  \\\n",
       "0             0.0             0.0             0.0              0.0   \n",
       "1             0.0             0.0             0.0              0.0   \n",
       "2             0.0             0.0             0.0              0.0   \n",
       "3             0.0             0.0             0.0              0.0   \n",
       "4             0.0             0.0             0.0              0.0   \n",
       "\n",
       "   Inverter_7_median  Inverter_7_std  Inverter_7_sum  Inverter_8_min  \\\n",
       "0                0.0             0.0             0.0             0.0   \n",
       "1                0.0             0.0             0.0             0.0   \n",
       "2                0.0             0.0             0.0             0.0   \n",
       "3                0.0             0.0             0.0             0.0   \n",
       "4                0.0             0.0             0.0             0.0   \n",
       "\n",
       "   Inverter_8_max  Inverter_8_mean  Inverter_8_median  Inverter_8_std  \\\n",
       "0             0.0              0.0                0.0             0.0   \n",
       "1             0.0              0.0                0.0             0.0   \n",
       "2             0.0              0.0                0.0             0.0   \n",
       "3             0.0              0.0                0.0             0.0   \n",
       "4             0.0              0.0                0.0             0.0   \n",
       "\n",
       "   Inverter_8_sum  Solar_Irradiance_min  Solar_Irradiance_max  \\\n",
       "0             0.0                   0.0                   0.0   \n",
       "1             0.0                   0.0                   0.0   \n",
       "2             0.0                   0.0                   0.0   \n",
       "3             0.0                   0.0                   0.0   \n",
       "4             0.0                   0.0                   0.0   \n",
       "\n",
       "   Solar_Irradiance_mean  Solar_Irradiance_median  Solar_Irradiance_std  \\\n",
       "0                    0.0                      0.0                   0.0   \n",
       "1                    0.0                      0.0                   0.0   \n",
       "2                    0.0                      0.0                   0.0   \n",
       "3                    0.0                      0.0                   0.0   \n",
       "4                    0.0                      0.0                   0.0   \n",
       "\n",
       "   Solar_Irradiance_sum  HourlyWetBulbTemperature_min  \\\n",
       "0                   0.0                          27.0   \n",
       "1                   0.0                          27.0   \n",
       "2                   0.0                          27.0   \n",
       "3                   0.0                          27.0   \n",
       "4                   0.0                          27.0   \n",
       "\n",
       "   HourlyWetBulbTemperature_max  HourlyWetBulbTemperature_mean  \\\n",
       "0                          27.0                      27.000000   \n",
       "1                          28.0                      27.583333   \n",
       "2                          28.0                      27.416667   \n",
       "3                          27.0                      27.000000   \n",
       "4                          27.0                      27.000000   \n",
       "\n",
       "   HourlyWetBulbTemperature_median  HourlyWetBulbTemperature_std  \\\n",
       "0                             27.0                      0.000000   \n",
       "1                             28.0                      0.497167   \n",
       "2                             27.0                      0.497167   \n",
       "3                             27.0                      0.000000   \n",
       "4                             27.0                      0.000000   \n",
       "\n",
       "   HourlyWindDirection_min  HourlyWindDirection_max  HourlyWindDirection_mean  \\\n",
       "0                        0                        0                       0.0   \n",
       "1                        0                        0                       0.0   \n",
       "2                        0                        0                       0.0   \n",
       "3                        0                      240                     140.0   \n",
       "4                        0                      240                     100.0   \n",
       "\n",
       "   HourlyWindDirection_median  HourlyWindDirection_std  HourlyWindSpeed_min  \\\n",
       "0                           0                 0.000000                  0.0   \n",
       "1                           0                 0.000000                  0.0   \n",
       "2                           0                 0.000000                  0.0   \n",
       "3                         240               119.320108                  0.0   \n",
       "4                           0               119.320108                  0.0   \n",
       "\n",
       "   HourlyWindSpeed_max  HourlyWindSpeed_mean  HourlyWindSpeed_median  \\\n",
       "0                  0.0              0.000000                     0.0   \n",
       "1                  0.0              0.000000                     0.0   \n",
       "2                  0.0              0.000000                     0.0   \n",
       "3                  5.0              2.916667                     5.0   \n",
       "4                  5.0              2.083333                     0.0   \n",
       "\n",
       "   HourlyWindSpeed_std  SkyConditions_level_min  SkyConditions_level_max  \\\n",
       "0             0.000000                        8                        8   \n",
       "1             0.000000                        8                        8   \n",
       "2             0.000000                        8                        8   \n",
       "3             2.485836                        8                        8   \n",
       "4             2.485836                        8                        8   \n",
       "\n",
       "   SkyConditions_level_mean  SkyConditions_level_median  \\\n",
       "0                       8.0                           8   \n",
       "1                       8.0                           8   \n",
       "2                       8.0                           8   \n",
       "3                       8.0                           8   \n",
       "4                       8.0                           8   \n",
       "\n",
       "   SkyConditions_level_std  \n",
       "0                      0.0  \n",
       "1                      0.0  \n",
       "2                      0.0  \n",
       "3                      0.0  \n",
       "4                      0.0  "
      ]
     },
     "execution_count": 80,
     "metadata": {},
     "output_type": "execute_result"
    }
   ],
   "source": [
    "result.head()"
   ]
  },
  {
   "cell_type": "code",
   "execution_count": 81,
   "metadata": {
    "ExecuteTime": {
     "end_time": "2020-12-12T03:32:42.186603Z",
     "start_time": "2020-12-12T03:32:42.175757Z"
    }
   },
   "outputs": [],
   "source": [
    "result.rename(columns={\"Date_ymdh_\": \"Date\"},inplace=True)\n",
    "result['Date'] = pd.to_datetime(result['Date'])"
   ]
  },
  {
   "cell_type": "code",
   "execution_count": 82,
   "metadata": {
    "ExecuteTime": {
     "end_time": "2020-12-12T03:32:42.280540Z",
     "start_time": "2020-12-12T03:32:42.194715Z"
    }
   },
   "outputs": [],
   "source": [
    "df_final_hourly['Date'] = df_final_hourly['Date_day_hour'].apply(lambda x: x.strftime(\"%Y-%m-%d %H\"))\n",
    "df_final_hourly['Date'] = pd.to_datetime(df_final_hourly['Date'],format=\"%Y-%m-%d %H\")"
   ]
  },
  {
   "cell_type": "code",
   "execution_count": 83,
   "metadata": {
    "ExecuteTime": {
     "end_time": "2020-12-12T03:32:42.291803Z",
     "start_time": "2020-12-12T03:32:42.283508Z"
    }
   },
   "outputs": [],
   "source": [
    "df_final_hourly.drop(['Date_day_hour','Date_ymd'],axis=1, inplace=True)"
   ]
  },
  {
   "cell_type": "code",
   "execution_count": 86,
   "metadata": {
    "ExecuteTime": {
     "end_time": "2020-12-12T03:32:54.930168Z",
     "start_time": "2020-12-12T03:32:54.807748Z"
    }
   },
   "outputs": [],
   "source": [
    "df_agg_hourly = pd.merge(df_final_hourly,result,on='Date')\n",
    "df_agg_hourly['Date_ymd'] = pd.to_datetime(df_final_hourly['Date'].apply(lambda x: x.strftime(\"%Y-%m-%d\")))\n",
    "df_agg_hourly = pd.merge(df_agg_hourly,solar_angles,left_on='Date_ymd',right_on='Date')"
   ]
  },
  {
   "cell_type": "code",
   "execution_count": 92,
   "metadata": {
    "ExecuteTime": {
     "end_time": "2020-12-12T03:34:09.622646Z",
     "start_time": "2020-12-12T03:34:09.574387Z"
    }
   },
   "outputs": [],
   "source": [
    "df_agg_hourly['Temperature_max-min'] = df_agg_hourly[\n",
    "    'HourlyDryBulbTemperature_max'] - df_agg_hourly[\n",
    "        'HourlyDryBulbTemperature_min']\n",
    "\n",
    "mean_power_June21 = df_agg_hourly[df_agg_hourly['Date_x'] == '2020-06-21']['Electric_KWAC_Power']\n",
    "df_agg_hourly['Power_mean_deviation_June21'] = df_agg_hourly[\n",
    "    'Electric_KWAC_Power'] - mean_power_June21\n",
    "\n",
    "sum_power_June21 = df_agg_hourly[df_agg_hourly['Date_x'] == '2020-06-21']['Electric_KWAC_Power']\n",
    "df_agg_hourly['Power_sum_deviation_June21'] = df_agg_hourly[\n",
    "    'Electric_KWAC_Power'] - sum_power_June21\n",
    "\n",
    "mean_solar_irradiance_June21 = df_agg_hourly[\n",
    "    df_agg_hourly['Date_x'] == '2020-06-21']['Solar_Irradiance_mean']\n",
    "df_agg_hourly['Irradiance_deviation_June21'] = df_agg_hourly[\n",
    "    'Solar_Irradiance_mean'] - mean_solar_irradiance_June21\n",
    "\n",
    "sum_solar_irradiance_June21 = df_agg_hourly[\n",
    "    df_agg_hourly['Date_x'] == '2020-06-21']['Solar_Irradiance_sum']\n",
    "df_agg_hourly['Irradiance_sum_deviation_June21'] = df_agg_hourly[\n",
    "    'Solar_Irradiance_sum'] - sum_solar_irradiance_June21"
   ]
  },
  {
   "cell_type": "code",
   "execution_count": 93,
   "metadata": {
    "ExecuteTime": {
     "end_time": "2020-12-12T03:34:11.630357Z",
     "start_time": "2020-12-12T03:34:11.622052Z"
    }
   },
   "outputs": [
    {
     "data": {
      "text/plain": [
       "(7027, 134)"
      ]
     },
     "execution_count": 93,
     "metadata": {},
     "output_type": "execute_result"
    }
   ],
   "source": [
    "df_agg_hourly.shape"
   ]
  },
  {
   "cell_type": "code",
   "execution_count": null,
   "metadata": {
    "ExecuteTime": {
     "end_time": "2020-12-01T20:38:58.525148Z",
     "start_time": "2020-12-01T20:38:57.921899Z"
    }
   },
   "outputs": [],
   "source": [
    "# Save to cvs file\n",
    "df_agg_hourly.to_csv('All_aggregations_hourly_updates.csv')"
   ]
  }
 ],
 "metadata": {
  "hide_input": false,
  "kernelspec": {
   "display_name": "Python 3",
   "language": "python",
   "name": "python3"
  },
  "language_info": {
   "codemirror_mode": {
    "name": "ipython",
    "version": 3
   },
   "file_extension": ".py",
   "mimetype": "text/x-python",
   "name": "python",
   "nbconvert_exporter": "python",
   "pygments_lexer": "ipython3",
   "version": "3.7.6"
  },
  "toc": {
   "base_numbering": 1,
   "nav_menu": {},
   "number_sections": false,
   "sideBar": true,
   "skip_h1_title": true,
   "title_cell": "Table of Contents",
   "title_sidebar": "Contents",
   "toc_cell": true,
   "toc_position": {},
   "toc_section_display": true,
   "toc_window_display": true
  }
 },
 "nbformat": 4,
 "nbformat_minor": 4
}
